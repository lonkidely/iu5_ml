{
 "cells": [
  {
   "cell_type": "markdown",
   "metadata": {},
   "source": [
    "# Лабораторная работа №3\n",
    "\n",
    "## Подготовка обучающей и тестовой выборки, кросс-валидация и подбор гиперпараметров на примере метода ближайших соседей.\n",
    "\n",
    "### **Цель рабораторной работы:** изучение способов подготовки выборки и подбора гиперпараметров на примере метода ближайших соседей."
   ]
  },
  {
   "cell_type": "markdown",
   "metadata": {},
   "source": [
    "#### Подготовка датафреймов\n",
    "Импорт библиотек"
   ]
  },
  {
   "cell_type": "code",
   "execution_count": 1,
   "metadata": {},
   "outputs": [],
   "source": [
    "import numpy as np\n",
    "import pandas as pd\n",
    "import seaborn as sns\n",
    "import matplotlib.pyplot as plt\n",
    "%matplotlib inline\n",
    "sns.set(style=\"ticks\")"
   ]
  },
  {
   "cell_type": "markdown",
   "metadata": {},
   "source": [
    "Загрузим датасет, используется тот же самый, что и в первой ЛР."
   ]
  },
  {
   "cell_type": "code",
   "execution_count": 2,
   "metadata": {},
   "outputs": [
    {
     "data": {
      "text/html": [
       "<div>\n",
       "<style scoped>\n",
       "    .dataframe tbody tr th:only-of-type {\n",
       "        vertical-align: middle;\n",
       "    }\n",
       "\n",
       "    .dataframe tbody tr th {\n",
       "        vertical-align: top;\n",
       "    }\n",
       "\n",
       "    .dataframe thead th {\n",
       "        text-align: right;\n",
       "    }\n",
       "</style>\n",
       "<table border=\"1\" class=\"dataframe\">\n",
       "  <thead>\n",
       "    <tr style=\"text-align: right;\">\n",
       "      <th></th>\n",
       "      <th>AGE</th>\n",
       "      <th>SEX</th>\n",
       "      <th>BMI</th>\n",
       "      <th>BP</th>\n",
       "      <th>S1</th>\n",
       "      <th>S2</th>\n",
       "      <th>S3</th>\n",
       "      <th>S4</th>\n",
       "      <th>S5</th>\n",
       "      <th>S6</th>\n",
       "      <th>Y</th>\n",
       "    </tr>\n",
       "  </thead>\n",
       "  <tbody>\n",
       "    <tr>\n",
       "      <th>0</th>\n",
       "      <td>59</td>\n",
       "      <td>2</td>\n",
       "      <td>32.1</td>\n",
       "      <td>101.0</td>\n",
       "      <td>157</td>\n",
       "      <td>93.2</td>\n",
       "      <td>38.0</td>\n",
       "      <td>4.0</td>\n",
       "      <td>4.8598</td>\n",
       "      <td>87</td>\n",
       "      <td>151</td>\n",
       "    </tr>\n",
       "    <tr>\n",
       "      <th>1</th>\n",
       "      <td>48</td>\n",
       "      <td>1</td>\n",
       "      <td>21.6</td>\n",
       "      <td>87.0</td>\n",
       "      <td>183</td>\n",
       "      <td>103.2</td>\n",
       "      <td>70.0</td>\n",
       "      <td>3.0</td>\n",
       "      <td>3.8918</td>\n",
       "      <td>69</td>\n",
       "      <td>75</td>\n",
       "    </tr>\n",
       "    <tr>\n",
       "      <th>2</th>\n",
       "      <td>72</td>\n",
       "      <td>2</td>\n",
       "      <td>30.5</td>\n",
       "      <td>93.0</td>\n",
       "      <td>156</td>\n",
       "      <td>93.6</td>\n",
       "      <td>41.0</td>\n",
       "      <td>4.0</td>\n",
       "      <td>4.6728</td>\n",
       "      <td>85</td>\n",
       "      <td>141</td>\n",
       "    </tr>\n",
       "    <tr>\n",
       "      <th>3</th>\n",
       "      <td>24</td>\n",
       "      <td>1</td>\n",
       "      <td>25.3</td>\n",
       "      <td>84.0</td>\n",
       "      <td>198</td>\n",
       "      <td>131.4</td>\n",
       "      <td>40.0</td>\n",
       "      <td>5.0</td>\n",
       "      <td>4.8903</td>\n",
       "      <td>89</td>\n",
       "      <td>206</td>\n",
       "    </tr>\n",
       "    <tr>\n",
       "      <th>4</th>\n",
       "      <td>50</td>\n",
       "      <td>1</td>\n",
       "      <td>23.0</td>\n",
       "      <td>101.0</td>\n",
       "      <td>192</td>\n",
       "      <td>125.4</td>\n",
       "      <td>52.0</td>\n",
       "      <td>4.0</td>\n",
       "      <td>4.2905</td>\n",
       "      <td>80</td>\n",
       "      <td>135</td>\n",
       "    </tr>\n",
       "  </tbody>\n",
       "</table>\n",
       "</div>"
      ],
      "text/plain": [
       "   AGE  SEX   BMI     BP   S1     S2    S3   S4      S5  S6    Y\n",
       "0   59    2  32.1  101.0  157   93.2  38.0  4.0  4.8598  87  151\n",
       "1   48    1  21.6   87.0  183  103.2  70.0  3.0  3.8918  69   75\n",
       "2   72    2  30.5   93.0  156   93.6  41.0  4.0  4.6728  85  141\n",
       "3   24    1  25.3   84.0  198  131.4  40.0  5.0  4.8903  89  206\n",
       "4   50    1  23.0  101.0  192  125.4  52.0  4.0  4.2905  80  135"
      ]
     },
     "execution_count": 2,
     "metadata": {},
     "output_type": "execute_result"
    }
   ],
   "source": [
    "data = pd.read_table('https://www4.stat.ncsu.edu/~boos/var.select/diabetes.tab.txt')\n",
    "data.head()"
   ]
  },
  {
   "cell_type": "markdown",
   "metadata": {},
   "source": [
    "Проверим наличие пропусков:"
   ]
  },
  {
   "cell_type": "code",
   "execution_count": 3,
   "metadata": {},
   "outputs": [
    {
     "data": {
      "text/plain": [
       "AGE    0\n",
       "SEX    0\n",
       "BMI    0\n",
       "BP     0\n",
       "S1     0\n",
       "S2     0\n",
       "S3     0\n",
       "S4     0\n",
       "S5     0\n",
       "S6     0\n",
       "Y      0\n",
       "dtype: int64"
      ]
     },
     "execution_count": 3,
     "metadata": {},
     "output_type": "execute_result"
    }
   ],
   "source": [
    "data.isnull().sum()"
   ]
  },
  {
   "cell_type": "markdown",
   "metadata": {},
   "source": [
    "Пропусков нет. Отлично, работаем дальше."
   ]
  },
  {
   "cell_type": "markdown",
   "metadata": {},
   "source": [
    "Выберем параметр 'Y' как целевой.\n",
    "Отберем доп параметры:"
   ]
  },
  {
   "cell_type": "code",
   "execution_count": 4,
   "metadata": {},
   "outputs": [
    {
     "data": {
      "text/html": [
       "<div>\n",
       "<style scoped>\n",
       "    .dataframe tbody tr th:only-of-type {\n",
       "        vertical-align: middle;\n",
       "    }\n",
       "\n",
       "    .dataframe tbody tr th {\n",
       "        vertical-align: top;\n",
       "    }\n",
       "\n",
       "    .dataframe thead th {\n",
       "        text-align: right;\n",
       "    }\n",
       "</style>\n",
       "<table border=\"1\" class=\"dataframe\">\n",
       "  <thead>\n",
       "    <tr style=\"text-align: right;\">\n",
       "      <th></th>\n",
       "      <th>AGE</th>\n",
       "      <th>BMI</th>\n",
       "      <th>BP</th>\n",
       "      <th>S3</th>\n",
       "      <th>S4</th>\n",
       "      <th>S5</th>\n",
       "      <th>S6</th>\n",
       "      <th>Y</th>\n",
       "    </tr>\n",
       "  </thead>\n",
       "  <tbody>\n",
       "    <tr>\n",
       "      <th>0</th>\n",
       "      <td>59.0</td>\n",
       "      <td>32.1</td>\n",
       "      <td>101.0</td>\n",
       "      <td>38.0</td>\n",
       "      <td>4.0</td>\n",
       "      <td>4.8598</td>\n",
       "      <td>87.0</td>\n",
       "      <td>151.0</td>\n",
       "    </tr>\n",
       "    <tr>\n",
       "      <th>1</th>\n",
       "      <td>48.0</td>\n",
       "      <td>21.6</td>\n",
       "      <td>87.0</td>\n",
       "      <td>70.0</td>\n",
       "      <td>3.0</td>\n",
       "      <td>3.8918</td>\n",
       "      <td>69.0</td>\n",
       "      <td>75.0</td>\n",
       "    </tr>\n",
       "    <tr>\n",
       "      <th>2</th>\n",
       "      <td>72.0</td>\n",
       "      <td>30.5</td>\n",
       "      <td>93.0</td>\n",
       "      <td>41.0</td>\n",
       "      <td>4.0</td>\n",
       "      <td>4.6728</td>\n",
       "      <td>85.0</td>\n",
       "      <td>141.0</td>\n",
       "    </tr>\n",
       "    <tr>\n",
       "      <th>3</th>\n",
       "      <td>24.0</td>\n",
       "      <td>25.3</td>\n",
       "      <td>84.0</td>\n",
       "      <td>40.0</td>\n",
       "      <td>5.0</td>\n",
       "      <td>4.8903</td>\n",
       "      <td>89.0</td>\n",
       "      <td>206.0</td>\n",
       "    </tr>\n",
       "    <tr>\n",
       "      <th>4</th>\n",
       "      <td>50.0</td>\n",
       "      <td>23.0</td>\n",
       "      <td>101.0</td>\n",
       "      <td>52.0</td>\n",
       "      <td>4.0</td>\n",
       "      <td>4.2905</td>\n",
       "      <td>80.0</td>\n",
       "      <td>135.0</td>\n",
       "    </tr>\n",
       "  </tbody>\n",
       "</table>\n",
       "</div>"
      ],
      "text/plain": [
       "    AGE   BMI     BP    S3   S4      S5    S6      Y\n",
       "0  59.0  32.1  101.0  38.0  4.0  4.8598  87.0  151.0\n",
       "1  48.0  21.6   87.0  70.0  3.0  3.8918  69.0   75.0\n",
       "2  72.0  30.5   93.0  41.0  4.0  4.6728  85.0  141.0\n",
       "3  24.0  25.3   84.0  40.0  5.0  4.8903  89.0  206.0\n",
       "4  50.0  23.0  101.0  52.0  4.0  4.2905  80.0  135.0"
      ]
     },
     "execution_count": 4,
     "metadata": {},
     "output_type": "execute_result"
    }
   ],
   "source": [
    "nparr = data.to_numpy()\n",
    "\n",
    "data_regr = pd.DataFrame(nparr.take([0, 2, 3, 6, 7, 8, 9, 10], 1), columns=data.columns.take([0, 2, 3, 6, 7, 8, 9, 10]))\n",
    "\n",
    "data_regr.head()"
   ]
  },
  {
   "cell_type": "markdown",
   "metadata": {},
   "source": [
    "Сделаем копии фреймов с масштабированием"
   ]
  },
  {
   "cell_type": "code",
   "execution_count": 5,
   "metadata": {},
   "outputs": [
    {
     "data": {
      "text/html": [
       "<div>\n",
       "<style scoped>\n",
       "    .dataframe tbody tr th:only-of-type {\n",
       "        vertical-align: middle;\n",
       "    }\n",
       "\n",
       "    .dataframe tbody tr th {\n",
       "        vertical-align: top;\n",
       "    }\n",
       "\n",
       "    .dataframe thead th {\n",
       "        text-align: right;\n",
       "    }\n",
       "</style>\n",
       "<table border=\"1\" class=\"dataframe\">\n",
       "  <thead>\n",
       "    <tr style=\"text-align: right;\">\n",
       "      <th></th>\n",
       "      <th>AGE</th>\n",
       "      <th>BMI</th>\n",
       "      <th>BP</th>\n",
       "      <th>S3</th>\n",
       "      <th>S4</th>\n",
       "      <th>S5</th>\n",
       "      <th>S6</th>\n",
       "      <th>Y</th>\n",
       "    </tr>\n",
       "  </thead>\n",
       "  <tbody>\n",
       "    <tr>\n",
       "      <th>count</th>\n",
       "      <td>442.000000</td>\n",
       "      <td>442.000000</td>\n",
       "      <td>442.000000</td>\n",
       "      <td>442.000000</td>\n",
       "      <td>442.000000</td>\n",
       "      <td>442.000000</td>\n",
       "      <td>442.000000</td>\n",
       "      <td>442.000000</td>\n",
       "    </tr>\n",
       "    <tr>\n",
       "      <th>mean</th>\n",
       "      <td>0.491968</td>\n",
       "      <td>0.346107</td>\n",
       "      <td>0.459817</td>\n",
       "      <td>0.360889</td>\n",
       "      <td>0.291996</td>\n",
       "      <td>0.485560</td>\n",
       "      <td>0.503942</td>\n",
       "      <td>0.396054</td>\n",
       "    </tr>\n",
       "    <tr>\n",
       "      <th>std</th>\n",
       "      <td>0.218484</td>\n",
       "      <td>0.182567</td>\n",
       "      <td>0.194807</td>\n",
       "      <td>0.167977</td>\n",
       "      <td>0.182010</td>\n",
       "      <td>0.183366</td>\n",
       "      <td>0.174187</td>\n",
       "      <td>0.240165</td>\n",
       "    </tr>\n",
       "    <tr>\n",
       "      <th>min</th>\n",
       "      <td>0.000000</td>\n",
       "      <td>0.000000</td>\n",
       "      <td>0.000000</td>\n",
       "      <td>0.000000</td>\n",
       "      <td>0.000000</td>\n",
       "      <td>0.000000</td>\n",
       "      <td>0.000000</td>\n",
       "      <td>0.000000</td>\n",
       "    </tr>\n",
       "    <tr>\n",
       "      <th>25%</th>\n",
       "      <td>0.320833</td>\n",
       "      <td>0.214876</td>\n",
       "      <td>0.309859</td>\n",
       "      <td>0.237013</td>\n",
       "      <td>0.141044</td>\n",
       "      <td>0.357542</td>\n",
       "      <td>0.382576</td>\n",
       "      <td>0.193146</td>\n",
       "    </tr>\n",
       "    <tr>\n",
       "      <th>50%</th>\n",
       "      <td>0.516667</td>\n",
       "      <td>0.318182</td>\n",
       "      <td>0.436620</td>\n",
       "      <td>0.337662</td>\n",
       "      <td>0.282087</td>\n",
       "      <td>0.478062</td>\n",
       "      <td>0.500000</td>\n",
       "      <td>0.359813</td>\n",
       "    </tr>\n",
       "    <tr>\n",
       "      <th>75%</th>\n",
       "      <td>0.666667</td>\n",
       "      <td>0.465909</td>\n",
       "      <td>0.605634</td>\n",
       "      <td>0.464286</td>\n",
       "      <td>0.423131</td>\n",
       "      <td>0.610446</td>\n",
       "      <td>0.606061</td>\n",
       "      <td>0.580997</td>\n",
       "    </tr>\n",
       "    <tr>\n",
       "      <th>max</th>\n",
       "      <td>1.000000</td>\n",
       "      <td>1.000000</td>\n",
       "      <td>1.000000</td>\n",
       "      <td>1.000000</td>\n",
       "      <td>1.000000</td>\n",
       "      <td>1.000000</td>\n",
       "      <td>1.000000</td>\n",
       "      <td>1.000000</td>\n",
       "    </tr>\n",
       "  </tbody>\n",
       "</table>\n",
       "</div>"
      ],
      "text/plain": [
       "              AGE         BMI          BP          S3          S4          S5  \\\n",
       "count  442.000000  442.000000  442.000000  442.000000  442.000000  442.000000   \n",
       "mean     0.491968    0.346107    0.459817    0.360889    0.291996    0.485560   \n",
       "std      0.218484    0.182567    0.194807    0.167977    0.182010    0.183366   \n",
       "min      0.000000    0.000000    0.000000    0.000000    0.000000    0.000000   \n",
       "25%      0.320833    0.214876    0.309859    0.237013    0.141044    0.357542   \n",
       "50%      0.516667    0.318182    0.436620    0.337662    0.282087    0.478062   \n",
       "75%      0.666667    0.465909    0.605634    0.464286    0.423131    0.610446   \n",
       "max      1.000000    1.000000    1.000000    1.000000    1.000000    1.000000   \n",
       "\n",
       "               S6           Y  \n",
       "count  442.000000  442.000000  \n",
       "mean     0.503942    0.396054  \n",
       "std      0.174187    0.240165  \n",
       "min      0.000000    0.000000  \n",
       "25%      0.382576    0.193146  \n",
       "50%      0.500000    0.359813  \n",
       "75%      0.606061    0.580997  \n",
       "max      1.000000    1.000000  "
      ]
     },
     "execution_count": 5,
     "metadata": {},
     "output_type": "execute_result"
    }
   ],
   "source": [
    "from sklearn.preprocessing import MinMaxScaler\n",
    "\n",
    "sc = MinMaxScaler()\n",
    "\n",
    "# данные для регрессии\n",
    "data_regr_scaled = data_regr.copy()\n",
    "\n",
    "for col in data_regr.columns:\n",
    "    data_regr_scaled[[col]] = sc.fit_transform(data_regr[[col]])\n",
    "\n",
    "data_regr_scaled.describe()"
   ]
  },
  {
   "cell_type": "markdown",
   "metadata": {},
   "source": [
    "#### Метод KNN\n",
    "Будем решать задачу регрессии для параметра 'Y'"
   ]
  },
  {
   "cell_type": "code",
   "execution_count": 6,
   "metadata": {},
   "outputs": [
    {
     "data": {
      "text/plain": [
       "<AxesSubplot:ylabel='Density'>"
      ]
     },
     "execution_count": 6,
     "metadata": {},
     "output_type": "execute_result"
    },
    {
     "data": {
      "image/png": "[encoded data removed]",
      "text/plain": [
       "<Figure size 432x288 with 1 Axes>"
      ]
     },
     "metadata": {},
     "output_type": "display_data"
    }
   ],
   "source": [
    "data_unscaled = data_regr\n",
    "data_scaled = data_regr_scaled\n",
    "\n",
    "sns.kdeplot(data = data_unscaled, legend = False)"
   ]
  },
  {
   "cell_type": "code",
   "execution_count": 7,
   "metadata": {},
   "outputs": [
    {
     "data": {
      "text/plain": [
       "<AxesSubplot:ylabel='Density'>"
      ]
     },
     "execution_count": 7,
     "metadata": {},
     "output_type": "execute_result"
    },
    {
     "data": {
      "image/png": "[encoded data removed]",
      "text/plain": [
       "<Figure size 432x288 with 1 Axes>"
      ]
     },
     "metadata": {},
     "output_type": "display_data"
    }
   ],
   "source": [
    "sns.kdeplot(data = data_scaled)"
   ]
  },
  {
   "cell_type": "markdown",
   "metadata": {},
   "source": [
    "Разделим выборку на обучающую и тестовую"
   ]
  },
  {
   "cell_type": "code",
   "execution_count": 8,
   "metadata": {},
   "outputs": [],
   "source": [
    "from sklearn.model_selection import train_test_split\n",
    "\n",
    "test_size_global = 0.45\n",
    "random_state_global = 1\n",
    "\n",
    "y_col = 'Y'\n",
    "x_cols = data_unscaled.columns.tolist()\n",
    "x_cols.pop(x_cols.index(y_col))\n",
    "\n",
    "data_unscaled_x_train, data_unscaled_x_test, data_unscaled_y_train, data_unscaled_y_test = train_test_split(\n",
    "    data_unscaled[x_cols],\n",
    "    data_unscaled[y_col],\n",
    "    test_size=test_size_global,\n",
    "    random_state=random_state_global\n",
    ")\n",
    "\n",
    "data_scaled_x_train, data_scaled_x_test, data_scaled_y_train, data_scaled_y_test = train_test_split(\n",
    "    data_scaled[x_cols],\n",
    "    data_scaled[y_col],\n",
    "    test_size=test_size_global,\n",
    "    random_state=random_state_global\n",
    ")"
   ]
  },
  {
   "cell_type": "markdown",
   "metadata": {},
   "source": [
    "Получим произвольную модель"
   ]
  },
  {
   "cell_type": "code",
   "execution_count": 9,
   "metadata": {},
   "outputs": [],
   "source": [
    "from sklearn.neighbors import KNeighborsRegressor\n",
    "\n",
    "K = 20\n",
    "\n",
    "knn_unscaled = KNeighborsRegressor(n_neighbors=K)\n",
    "knn_scaled = KNeighborsRegressor(n_neighbors=K)\n",
    "\n",
    "knn_unscaled.fit(data_unscaled_x_train, data_unscaled_y_train)\n",
    "knn_scaled.fit(data_scaled_x_train, data_scaled_y_train)\n",
    "\n",
    "knn_unscaled_prediction = knn_unscaled.predict(data_unscaled_x_test)\n",
    "knn_scaled_prediction = knn_scaled.predict(data_scaled_x_test)"
   ]
  },
  {
   "cell_type": "markdown",
   "metadata": {},
   "source": [
    "Выведем метрики"
   ]
  },
  {
   "cell_type": "code",
   "execution_count": 10,
   "metadata": {},
   "outputs": [
    {
     "name": "stdout",
     "output_type": "stream",
     "text": [
      "Для немасштабированных данных\n",
      "1) Средняя абсолютная ошибка = 50.394723618090445\n",
      "2) Медианная абсолютная ошибка = 44.349999999999994\n",
      "3) Среднекваратичная ошибка = 3834.372449748744\n",
      "4) Коэффициент детерминации = 0.26977708377111287\n",
      "\n",
      "Для масштабированных данных\n",
      "1) Средняя абсолютная ошибка = 0.1432880915480831\n",
      "2) Медианная абсолютная ошибка = 0.12647975077881624\n",
      "3) Среднекваратичная ошибка = 0.03224689308675928\n",
      "4) Коэффициент детерминации = 0.36721073190672426\n",
      "\n"
     ]
    }
   ],
   "source": [
    "from sklearn.metrics import mean_absolute_error, mean_squared_error, median_absolute_error, r2_score\n",
    "from sklearn.model_selection import ShuffleSplit, cross_val_score, cross_validate\n",
    "\n",
    "def print_regression_metrics(type_of_data, y_test, y_predict):\n",
    "    mean_abs_error = mean_absolute_error(y_test, y_predict)\n",
    "    median_abs_error = median_absolute_error(y_test, y_predict)\n",
    "    mean_sqr_error = mean_squared_error(y_test, y_predict)\n",
    "    r2_sc = r2_score(y_test, y_predict)\n",
    "\n",
    "    print(type_of_data + \n",
    "    f\"1) Средняя абсолютная ошибка = {mean_abs_error}\\n2) Медианная абсолютная ошибка = {median_abs_error}\\n3) Среднекваратичная ошибка = {mean_sqr_error}\\n4) Коэффициент детерминации = {r2_sc}\\n\"\n",
    "    )\n",
    "\n",
    "print_regression_metrics(\"Для немасштабированных данных\\n\", data_unscaled_y_test, knn_unscaled_prediction)\n",
    "print_regression_metrics(\"Для масштабированных данных\\n\", data_scaled_y_test, knn_scaled_prediction)"
   ]
  },
  {
   "cell_type": "markdown",
   "metadata": {},
   "source": [
    "Кросс-валидация"
   ]
  },
  {
   "cell_type": "code",
   "execution_count": 11,
   "metadata": {},
   "outputs": [
    {
     "name": "stdout",
     "output_type": "stream",
     "text": [
      "Кросс-валидация для немасштабированных данных\n",
      "fit_time: [0.00245357 0.00227809 0.00144815 0.00150037 0.00165081 0.00128722\n",
      " 0.00117874 0.00116181]\n",
      "score_time: [0.0043323  0.00376487 0.00247765 0.00265098 0.00244069 0.00230098\n",
      " 0.00219083 0.00216556]\n",
      "test_neg_root_mean_squared_error: [-61.92230979 -60.34481676 -62.84547912 -64.68622973 -61.37512857\n",
      " -68.08585374 -59.42667571 -65.23437365]\n",
      "test_r2: [0.26977708 0.3162452  0.34499719 0.32255879 0.31763546 0.24678482\n",
      " 0.31517729 0.2988317 ]\n",
      "\n",
      "Кросс-валидация для масштабированных данных\n",
      "fit_time: [0.00134516 0.00120449 0.00118876 0.00115013 0.00124431 0.00134873\n",
      " 0.00136518 0.00133276]\n",
      "score_time: [0.00240159 0.00228477 0.00229692 0.00226736 0.00247025 0.002455\n",
      " 0.00244474 0.00250363]\n",
      "test_neg_root_mean_squared_error: [-0.1795742  -0.17748036 -0.17241495 -0.17878493 -0.17348793 -0.18723816\n",
      " -0.16126366 -0.18153811]\n",
      "test_r2: [0.36721073 0.39055981 0.49201019 0.46676358 0.43820197 0.41304598\n",
      " 0.48036503 0.44048081]\n"
     ]
    }
   ],
   "source": [
    "# Кросс-валидация по стратегии ShuffleSplit\n",
    "\n",
    "sc_strategies = ['neg_root_mean_squared_error', 'r2']\n",
    "\n",
    "data_unscaled_cv_scores = cross_validate(KNeighborsRegressor(\n",
    "    n_neighbors = K),\n",
    "    data_unscaled[x_cols],\n",
    "    data_unscaled[y_col],\n",
    "    scoring = sc_strategies,\n",
    "    cv = ShuffleSplit(n_splits = 8,\n",
    "    test_size = test_size_global, \n",
    "    random_state = random_state_global\n",
    "    ))\n",
    "\n",
    "data_scaled_cv_scores = cross_validate(KNeighborsRegressor(\n",
    "    n_neighbors = K),\n",
    "    data_scaled[x_cols],\n",
    "    data_scaled[y_col],\n",
    "    scoring = sc_strategies,\n",
    "    cv = ShuffleSplit(n_splits = 8,\n",
    "    test_size = test_size_global, \n",
    "    random_state = random_state_global\n",
    "    ))\n",
    "\n",
    "print('Кросс-валидация для немасштабированных данных')\n",
    "for k, v in data_unscaled_cv_scores.items():\n",
    "    print(f'{k}: {v}')\n",
    "\n",
    "print('\\nКросс-валидация для масштабированных данных')\n",
    "for k, v in data_scaled_cv_scores.items():\n",
    "    print(f'{k}: {v}')"
   ]
  },
  {
   "cell_type": "markdown",
   "metadata": {},
   "source": [
    "Получение оптимальной модели  \n",
    "Найдем оптимальное значение K, используя решетчатый поиск"
   ]
  },
  {
   "cell_type": "code",
   "execution_count": 12,
   "metadata": {},
   "outputs": [
    {
     "name": "stdout",
     "output_type": "stream",
     "text": [
      "13 -62.01787504257286\n"
     ]
    }
   ],
   "source": [
    "from sklearn.model_selection import GridSearchCV, RandomizedSearchCV, KFold\n",
    "\n",
    "tested_parameters = {\"n_neighbors\" : np.array(range(1, 100, 6))}\n",
    "\n",
    "# Кросс-валидация по стратегии KFold\n",
    "randomized_grid_search = RandomizedSearchCV(\n",
    "    KNeighborsRegressor(), \n",
    "    tested_parameters, \n",
    "    n_iter = 15, \n",
    "    random_state = random_state_global, \n",
    "    cv = KFold(shuffle = True, random_state = random_state_global), \n",
    "    scoring = \"neg_root_mean_squared_error\"\n",
    ")\n",
    "\n",
    "randomized_grid_search.fit(data_unscaled[x_cols], data_unscaled[y_col])\n",
    "\n",
    "randomized_best_param = randomized_grid_search.best_params_.get(\"n_neighbors\")\n",
    "print(randomized_best_param, randomized_grid_search.best_score_)"
   ]
  },
  {
   "cell_type": "markdown",
   "metadata": {},
   "source": [
    "Попробуем улучшить результат обычным решетчатым поиском"
   ]
  },
  {
   "cell_type": "code",
   "execution_count": 13,
   "metadata": {},
   "outputs": [
    {
     "name": "stdout",
     "output_type": "stream",
     "text": [
      "13 -62.01787504257286\n"
     ]
    }
   ],
   "source": [
    "gs_params = {\"n_neighbors\" : np.array(range(1, 100))}\n",
    "grid_search = GridSearchCV(\n",
    "    KNeighborsRegressor(),\n",
    "    gs_params,\n",
    "    scoring = \"neg_root_mean_squared_error\",\n",
    "    cv = KFold(shuffle = True, random_state = random_state_global)\n",
    ")\n",
    "\n",
    "grid_search.fit(data_unscaled[x_cols], data_unscaled[y_col])\n",
    "\n",
    "non_randomized_best_param = grid_search.best_params_.get(\"n_neighbors\")\n",
    "print(non_randomized_best_param, grid_search.best_score_)"
   ]
  },
  {
   "cell_type": "markdown",
   "metadata": {},
   "source": [
    "Обучим оптимальную модель"
   ]
  },
  {
   "cell_type": "code",
   "execution_count": 14,
   "metadata": {},
   "outputs": [
    {
     "name": "stdout",
     "output_type": "stream",
     "text": [
      "Немасштабированные данные, случайная модель\n",
      "1) Средняя абсолютная ошибка = 50.394723618090445\n",
      "2) Медианная абсолютная ошибка = 44.349999999999994\n",
      "3) Среднекваратичная ошибка = 3834.372449748744\n",
      "4) Коэффициент детерминации = 0.26977708377111287\n",
      "\n",
      "Немасштабированные данные, оптимальная модель\n",
      "1) Средняя абсолютная ошибка = 48.89331271743332\n",
      "2) Медианная абсолютная ошибка = 39.46153846153847\n",
      "3) Среднекваратичная ошибка = 3770.582884838394\n",
      "4) Коэффициент детерминации = 0.281925252141366\n",
      "\n"
     ]
    }
   ],
   "source": [
    "cv_found_knn_unscaled = KNeighborsRegressor(n_neighbors=non_randomized_best_param)\n",
    "cv_found_knn_unscaled.fit(data_unscaled_x_train, data_unscaled_y_train)\n",
    "cv_found_knn_unscaled_prediction = cv_found_knn_unscaled.predict(data_unscaled_x_test)\n",
    "\n",
    "print_regression_metrics(\"Немасштабированные данные, случайная модель\\n\", data_unscaled_y_test, knn_unscaled_prediction)\n",
    "print_regression_metrics(\"Немасштабированные данные, оптимальная модель\\n\", data_unscaled_y_test, cv_found_knn_unscaled_prediction)"
   ]
  },
  {
   "cell_type": "markdown",
   "metadata": {},
   "source": [
    "Теперь аналогично для масштабированных данных"
   ]
  },
  {
   "cell_type": "code",
   "execution_count": 15,
   "metadata": {},
   "outputs": [
    {
     "name": "stdout",
     "output_type": "stream",
     "text": [
      "25 -0.17680075599261105\n",
      "28 -0.17631073656337662\n",
      "Масштабированные данные, случайная модель\n",
      "1) Средняя абсолютная ошибка = 0.1432880915480831\n",
      "2) Медианная абсолютная ошибка = 0.12647975077881624\n",
      "3) Среднекваратичная ошибка = 0.03224689308675928\n",
      "4) Коэффициент детерминации = 0.36721073190672426\n",
      "\n",
      "Масштабированные данные, оптимальная модель\n",
      "1) Средняя абсолютная ошибка = 0.14431469765382318\n",
      "2) Медианная абсолютная ошибка = 0.12494437027147309\n",
      "3) Среднекваратичная ошибка = 0.03165749821490169\n",
      "4) Коэффициент детерминации = 0.3787765825633208\n",
      "\n"
     ]
    }
   ],
   "source": [
    "# Кросс-валидация по стратегии KFold\n",
    "randomized_grid_search = RandomizedSearchCV(\n",
    "    KNeighborsRegressor(), \n",
    "    tested_parameters, \n",
    "    n_iter = 15, \n",
    "    random_state = random_state_global, \n",
    "    cv = KFold(shuffle = True, random_state = random_state_global), \n",
    "    scoring = \"neg_root_mean_squared_error\"\n",
    ")\n",
    "\n",
    "randomized_grid_search.fit(data_scaled[x_cols], data_scaled[y_col])\n",
    "\n",
    "randomized_best_param = randomized_grid_search.best_params_.get(\"n_neighbors\")\n",
    "print(randomized_best_param, randomized_grid_search.best_score_)\n",
    "\n",
    "\n",
    "gs_params = {\"n_neighbors\" : np.array(range(1, 100))}\n",
    "grid_search = GridSearchCV(\n",
    "    KNeighborsRegressor(),\n",
    "    gs_params,\n",
    "    scoring = \"neg_root_mean_squared_error\",\n",
    "    cv = KFold(shuffle = True, random_state = random_state_global)\n",
    ")\n",
    "\n",
    "grid_search.fit(data_scaled[x_cols], data_scaled[y_col])\n",
    "\n",
    "non_randomized_best_param = grid_search.best_params_.get(\"n_neighbors\")\n",
    "print(non_randomized_best_param, grid_search.best_score_)\n",
    "\n",
    "\n",
    "cv_found_knn_scaled = KNeighborsRegressor(n_neighbors=non_randomized_best_param)\n",
    "cv_found_knn_scaled.fit(data_scaled_x_train, data_scaled_y_train)\n",
    "cv_found_knn_scaled_prediction = cv_found_knn_scaled.predict(data_scaled_x_test)\n",
    "\n",
    "print_regression_metrics(\"Масштабированные данные, случайная модель\\n\", data_scaled_y_test, knn_scaled_prediction)\n",
    "print_regression_metrics(\"Масштабированные данные, оптимальная модель\\n\", data_scaled_y_test, cv_found_knn_scaled_prediction)"
   ]
  },
  {
   "cell_type": "markdown",
   "metadata": {},
   "source": [
    "Как мы видим, для масштабированных данных подбор гиперпараметра K не сильно изменил качество модели, а для немасштабированных улучшил."
   ]
  }
 ],
 "metadata": {
  "interpreter": {
   "hash": "d8b35809b11dc2ad1ee9e3600c2f5f52ee23b293ac911ceddddd98bb75885400"
  },
  "kernelspec": {
   "display_name": "Python 3.8.10 ('venv': venv)",
   "language": "python",
   "name": "python3"
  },
  "language_info": {
   "codemirror_mode": {
    "name": "ipython",
    "version": 3
   },
   "file_extension": ".py",
   "mimetype": "text/x-python",
   "name": "python",
   "nbconvert_exporter": "python",
   "pygments_lexer": "ipython3",
   "version": "3.8.10"
  },
  "orig_nbformat": 4
 },
 "nbformat": 4,
 "nbformat_minor": 2
}
